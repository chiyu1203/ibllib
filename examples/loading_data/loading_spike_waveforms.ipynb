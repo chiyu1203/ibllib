{
 "cells": [
  {
   "cell_type": "markdown",
   "id": "f73e02ee",
   "metadata": {},
   "source": [
    "# Loading Spike Waveforms"
   ]
  },
  {
   "cell_type": "code",
   "id": "ea70eb4a",
   "metadata": {
    "nbsphinx": "hidden",
    "ExecuteTime": {
     "end_time": "2024-12-05T12:37:41.707044Z",
     "start_time": "2024-12-05T12:37:41.703076Z"
    }
   },
   "source": [
    "# Turn off logging and disable tqdm this is a hidden cell on docs page\n",
    "import logging\n",
    "import os\n",
    "\n",
    "logger = logging.getLogger('ibllib')\n",
    "logger.setLevel(logging.CRITICAL)\n",
    "\n",
    "os.environ[\"TQDM_DISABLE\"] = \"1\""
   ],
   "outputs": [],
   "execution_count": 1
  },
  {
   "cell_type": "markdown",
   "id": "dca47f09",
   "metadata": {},
   "source": [
    "## Relevant Alf objects\n",
    "* waveforms"
   ]
  },
  {
   "cell_type": "markdown",
   "id": "eb34d848",
   "metadata": {},
   "source": "## Loading the spike sorting and average waveforms"
  },
  {
   "metadata": {},
   "cell_type": "code",
   "outputs": [],
   "execution_count": null,
   "source": [
    "%%capture\n",
    "from one.api import ONE\n",
    "from brainbox.io.one import SpikeSortingLoader\n",
    "\n",
    "one = ONE(base_url='https://openalyx.internationalbrainlab.org')\n",
    "\n",
    "pid = 'da8dfec1-d265-44e8-84ce-6ae9c109b8bd'\n",
    "\n",
    "# Load in the spikesorting\n",
    "ssl = SpikeSortingLoader(pid=pid, one=one)\n",
    "spikes, clusters, channels = ssl.load_spike_sorting(revision='2024-05-06')\n",
    "clusters = ssl.merge_clusters(spikes, clusters, channels)\n",
    "waveforms = ssl.load_spike_sorting_object('waveforms')\n",
    "\n",
    "\n"
   ],
   "id": "c5d32232"
  },
  {
   "metadata": {},
   "cell_type": "markdown",
   "source": "## Displaying a few average waveforms",
   "id": "baf9a06dcf72940a"
  },
  {
   "metadata": {},
   "cell_type": "code",
   "outputs": [],
   "execution_count": null,
   "source": [
    "import matplotlib.pyplot as plt\n",
    "import numpy as np\n",
    "import ibldsp.waveforms\n",
    "from ibl_style.style import figure_style\n",
    "figure_style()\n",
    "\n",
    "cids = np.random.choice(np.where(clusters['label'] == 1)[0], 3)\n",
    "fig, axs = plt.subplots(1, 3, figsize=(12, 4))\n",
    "for i, cid in enumerate(cids):\n",
    "    wf = waveforms['templates'][cid, :, :]\n",
    "    ax = ibldsp.waveforms.double_wiggle(wf * 1e6 / 80, fs=30_000, ax=axs[i])\n",
    "    ax.set(title=f'Cluster {cid}')"
   ],
   "id": "41d410af9a6f9c0a"
  },
  {
   "cell_type": "markdown",
   "id": "327a23e7",
   "metadata": {},
   "source": [
    "## More details\n",
    "During spike sorting, pre-processing operations are performed on the voltage data to create the average templates.\n",
    " Although those templates are useful for clustering, they may not be the best description of the neural activity.\n",
    " As such we extract average waveforms for each cluster using a different pre-processing. Details are provided on the spike sorting white paper [on figshare](https://figshare.com/articles/online_resource/Spike_sorting_pipeline_for_the_International_Brain_Laboratory/19705522?file=49783080).\n",
    "* [Description of datasets](https://docs.google.com/document/d/1OqIqqakPakHXRAwceYLwFY9gOrm8_P62XIfCTnHwstg/edit?tab=t.0#heading=h.i89jwttog3fq)"
   ]
  },
  {
   "cell_type": "markdown",
   "id": "157bf219",
   "metadata": {},
   "source": [
    "## Exploring the raw waveforms\n",
    "For each unit, we compiled up to raw data 256 waveforms chosen randomly from the entire recording.\n",
    "The pre-processing steps included rephasing of the channels, low-cut filtering, bad channel detection and common-average referencing.\n",
    "\n",
    "To perform the loading we will use a convenience.\n",
    "\n",
    "Warning, this will download a few Gigabytes of data to your computer !"
   ]
  },
  {
   "cell_type": "markdown",
   "id": "baf9eb11",
   "metadata": {},
   "source": [
    "### Compute average waveform for cluster\n",
    "Here we will load data from the striatum and compute the average wvaeform for several stack orders: 1, 2, 4, 8, 16, 32, 64, 128 and display the resulting waveform."
   ]
  },
  {
   "cell_type": "code",
   "execution_count": null,
   "id": "3d8a729c",
   "metadata": {},
   "outputs": [],
   "source": [
    "from ibldsp.utils import rms\n",
    "# instantiating the waveform loader will download the raw waveform arrays and can take a few minutes (~3Gb)\n",
    "wfl = ssl.raw_waveforms()\n",
    "ic = np.where(np.logical_and(clusters['acronym'] == 'LSr', clusters['bitwise_fail'] == 0))[0]\n",
    "# look at templates\n",
    "\n",
    "raw_wav, info, channel_map = wfl.load_waveforms(labels=ic[12])\n",
    "\n",
    "snr = np.zeros(8)\n",
    "fig, axs = plt.subplots(2, 4, figsize=(10, 6))\n",
    "for i, ax in enumerate(axs.flat):\n",
    "    w_stack = np.mean(raw_wav[0, :(2 ** i), :, :], axis=0)\n",
    "    ax = ibldsp.waveforms.double_wiggle( w_stack  * 1e6 / 80, fs=30_000, ax=axs.flatten()[i])\n",
    "    ax.set_title(f\"Stack {2 ** i}\")\n",
    "    snr[i] = 20 * np.log10(rms(w_stack[19:22, wfl.trough_offset - 10:wfl.trough_offset + 10].flatten()) / np.mean(rms(w_stack)))"
   ]
  },
  {
   "metadata": {},
   "cell_type": "markdown",
   "source": [
    "For constant gaussian noise in `n` repeated experiments, we expect the SNR to scale proportionally to the square root of `n`.\n",
    "In decibels, this corresponds to 3dB / octave. Let's see how the data compares to the prediction:"
   ],
   "id": "10b7139533052b12"
  },
  {
   "metadata": {},
   "cell_type": "code",
   "outputs": [],
   "execution_count": null,
   "source": [
    "fig, ax = plt.subplots(figsize=(6, 4))\n",
    "ax.plot(np.arange(8), snr, '*', label='SNR estimation')\n",
    "ax.plot(np.arange(8), np.arange(8) * 3, label='SNR predicted')\n",
    "ax.set(xlabel='Stack index (log2(N))', ylabel='SNR (dB)')\n",
    "ax.legend()"
   ],
   "id": "c092737cafb28598"
  }
 ],
 "metadata": {
  "kernelspec": {
   "display_name": "Python 3 (ipykernel)",
   "language": "python",
   "name": "python3"
  },
  "language_info": {
   "codemirror_mode": {
    "name": "ipython",
    "version": 3
   },
   "file_extension": ".py",
   "mimetype": "text/x-python",
   "name": "python",
   "nbconvert_exporter": "python",
   "pygments_lexer": "ipython3",
   "version": "3.11.6"
  }
 },
 "nbformat": 4,
 "nbformat_minor": 5
}
